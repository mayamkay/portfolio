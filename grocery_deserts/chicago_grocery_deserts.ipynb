{
 "cells": [
  {
   "cell_type": "code",
   "execution_count": null,
   "metadata": {},
   "outputs": [],
   "source": [
    "!pip install openrouteservice"
   ]
  },
  {
   "cell_type": "code",
   "execution_count": null,
   "metadata": {},
   "outputs": [],
   "source": [
    "import numpy as np\n",
    "import pandas as pd\n",
    "import openrouteservice\n",
    "from openrouteservice import places\n",
    "from shapely import wkt, geometry"
   ]
  },
  {
   "cell_type": "markdown",
   "metadata": {},
   "source": [
    "We start by using `openrouteservice` to pull data on grocery stores from each Chicago neighborhood. This is a free API that anyone can make an account for."
   ]
  },
  {
   "cell_type": "code",
   "execution_count": null,
   "metadata": {},
   "outputs": [],
   "source": [
    "# Start by setting up the openrouteservice client\n",
    "api_key = 'YOUR KEY'\n",
    "client = openrouteservice.Client(key=api_key) # Specify your personal API key\n",
    "\n",
    "# load the community areas from the csv file\n",
    "chicago_data = pd.read_csv(\"CommAreas.csv\")\n",
    "\n",
    "# establish lists to store the names and details of grocery stores\n",
    "names = []\n",
    "coordinates = []\n",
    "COMMUNITY = []\n",
    "city = []\n",
    "\n",
    "# Also store summary data for each community area\n",
    "number = []\n",
    "COMMUNITY_tots = []\n",
    "city_tots = []\n",
    "wkt_str_tots = []\n",
    "\n",
    "# For each community area, get the grocery stores within it\n",
    "for i in range(len(chicago_data['the_geom'])):\n",
    "  wkt_str = str(chicago_data[\"the_geom\"][i])\n",
    "  aoi_geom = wkt.loads(wkt_str)  # load geometry from WKT string\n",
    "\n",
    "  print(\"Looking at community \", chicago_data[\"COMMUNITY\"][i])\n",
    "\n",
    "  aoi_json = geometry.mapping(geometry.shape(aoi_geom))\n",
    "\n",
    "  # The query is formatted to select green grocers, supermarkets and grocery stores\n",
    "  query = {'request': 'pois',\n",
    "        'geojson': aoi_json,\n",
    "        'filter_category_ids': [474, 475, 518],\n",
    "        'sortby': 'distance', }\n",
    "\n",
    "  # Some areas have no grocery stores so we use a try excpet block to handle this\n",
    "  try:\n",
    "    grocery = client.places(**query)[0]['features']  # Perform the actual request and get inner json\n",
    "\n",
    "    # Store summary data\n",
    "    number.append(len(grocery))\n",
    "    COMMUNITY_tots.append(chicago_data[\"COMMUNITY\"][i])\n",
    "    city_tots.append('Chicago')\n",
    "    wkt_str_tots.append(wkt_str)\n",
    "\n",
    "    # Store the details of each grocery store\n",
    "    for g in grocery:\n",
    "      try:\n",
    "        names.append(g['properties']['osm_tags']['name'])\n",
    "        coordinates.append(g['geometry']['coordinates']) #longitude, latitude\n",
    "        city.append(\"Chicago\")\n",
    "        COMMUNITY.append(chicago_data[\"COMMUNITY\"][i])\n",
    "      except:\n",
    "        continue\n",
    "  except:\n",
    "    number.append(0)\n",
    "    COMMUNITY_tots.append(chicago_data[\"COMMUNITY\"][i])\n",
    "    city_tots.append('Chicago')\n",
    "    wkt_str_tots.append(wkt_str)\n",
    "\n",
    "\n",
    "# Save the summary data to a csv file\n",
    "data_tots = {\"city\":city_tots, \"wkt_str\": wkt_str_tots, \"COMMUNITY\": COMMUNITY_tots, \"number\":number}\n",
    "tots = pd.DataFrame(data_tots)\n",
    "tots.to_csv(\"total_grocery.csv\")\n",
    "\n",
    "# Save the grocery store details to a csv file\n",
    "data = {\"city\":city,  \"COMMUNITY\": COMMUNITY, \"name\":names, \"coordinates\": coordinates}\n",
    "all = pd.DataFrame(data)\n",
    "all.to_csv(\"all_grocery.csv\")"
   ]
  },
  {
   "cell_type": "markdown",
   "metadata": {},
   "source": [
    "I also have a `.shp` file which contains neighborhood information that is compatible with `ArcGIS` and can be used to create a map when uploaded to `ArcGIS online`. Here I simply add a column using `geopandas` that contains the cummulative statistics collected in the previous cell."
   ]
  },
  {
   "cell_type": "code",
   "execution_count": null,
   "metadata": {},
   "outputs": [],
   "source": [
    "import geopandas as gpd\n",
    "\n",
    "#  Load the shp file downloaded from ArcGIS Online\n",
    "shp_file = \"geo_export_7c21eff6-5b92-4143-a3c5-4d61074010ad.shp\"\n",
    "shape = gpd.read_file(shp_file)\n",
    "\n",
    "# Load the summary data from the previous section\n",
    "new_data = pd.read_csv(\"total_grocery.csv\")\n",
    "\n",
    "# Add the number of grocery stores to the shape file and the community name to confirm the data is correct\n",
    "shape[\"COMMUNITY\"] = new_data[\"COMMUNITY\"]\n",
    "shape[\"number_of_grocery_stores\"] = new_data[\"number\"]\n",
    "shape.to_file(\"geo_export_7c21eff6-5b92-4143-a3c5-4d61074010ad.shp\")"
   ]
  },
  {
   "cell_type": "code",
   "execution_count": 14,
   "metadata": {},
   "outputs": [
    {
     "data": {
      "text/html": [
       "<div>\n",
       "<style scoped>\n",
       "    .dataframe tbody tr th:only-of-type {\n",
       "        vertical-align: middle;\n",
       "    }\n",
       "\n",
       "    .dataframe tbody tr th {\n",
       "        vertical-align: top;\n",
       "    }\n",
       "\n",
       "    .dataframe thead th {\n",
       "        text-align: right;\n",
       "    }\n",
       "</style>\n",
       "<table border=\"1\" class=\"dataframe\">\n",
       "  <thead>\n",
       "    <tr style=\"text-align: right;\">\n",
       "      <th></th>\n",
       "      <th>area</th>\n",
       "      <th>area_num_1</th>\n",
       "      <th>area_numbe</th>\n",
       "      <th>comarea</th>\n",
       "      <th>comarea_id</th>\n",
       "      <th>community</th>\n",
       "      <th>perimeter</th>\n",
       "      <th>shape_area</th>\n",
       "      <th>shape_len</th>\n",
       "      <th>geometry</th>\n",
       "      <th>number_of_grocery_stores</th>\n",
       "      <th>COMMUNITY</th>\n",
       "    </tr>\n",
       "  </thead>\n",
       "  <tbody>\n",
       "    <tr>\n",
       "      <th>0</th>\n",
       "      <td>0.0</td>\n",
       "      <td>35</td>\n",
       "      <td>35</td>\n",
       "      <td>0.0</td>\n",
       "      <td>0.0</td>\n",
       "      <td>DOUGLAS</td>\n",
       "      <td>0.0</td>\n",
       "      <td>4.600462e+07</td>\n",
       "      <td>31027.054510</td>\n",
       "      <td>POLYGON ((-87.60914 41.84469, -87.60915 41.844...</td>\n",
       "      <td>2</td>\n",
       "      <td>DOUGLAS</td>\n",
       "    </tr>\n",
       "    <tr>\n",
       "      <th>1</th>\n",
       "      <td>0.0</td>\n",
       "      <td>36</td>\n",
       "      <td>36</td>\n",
       "      <td>0.0</td>\n",
       "      <td>0.0</td>\n",
       "      <td>OAKLAND</td>\n",
       "      <td>0.0</td>\n",
       "      <td>1.691396e+07</td>\n",
       "      <td>19565.506153</td>\n",
       "      <td>POLYGON ((-87.59215 41.81693, -87.59231 41.816...</td>\n",
       "      <td>0</td>\n",
       "      <td>OAKLAND</td>\n",
       "    </tr>\n",
       "    <tr>\n",
       "      <th>2</th>\n",
       "      <td>0.0</td>\n",
       "      <td>37</td>\n",
       "      <td>37</td>\n",
       "      <td>0.0</td>\n",
       "      <td>0.0</td>\n",
       "      <td>FULLER PARK</td>\n",
       "      <td>0.0</td>\n",
       "      <td>1.991670e+07</td>\n",
       "      <td>25339.089750</td>\n",
       "      <td>POLYGON ((-87.62880 41.80189, -87.62879 41.801...</td>\n",
       "      <td>0</td>\n",
       "      <td>FULLER PARK</td>\n",
       "    </tr>\n",
       "    <tr>\n",
       "      <th>3</th>\n",
       "      <td>0.0</td>\n",
       "      <td>38</td>\n",
       "      <td>38</td>\n",
       "      <td>0.0</td>\n",
       "      <td>0.0</td>\n",
       "      <td>GRAND BOULEVARD</td>\n",
       "      <td>0.0</td>\n",
       "      <td>4.849250e+07</td>\n",
       "      <td>28196.837157</td>\n",
       "      <td>POLYGON ((-87.60671 41.81681, -87.60670 41.816...</td>\n",
       "      <td>2</td>\n",
       "      <td>GRAND BOULEVARD</td>\n",
       "    </tr>\n",
       "    <tr>\n",
       "      <th>4</th>\n",
       "      <td>0.0</td>\n",
       "      <td>39</td>\n",
       "      <td>39</td>\n",
       "      <td>0.0</td>\n",
       "      <td>0.0</td>\n",
       "      <td>KENWOOD</td>\n",
       "      <td>0.0</td>\n",
       "      <td>2.907174e+07</td>\n",
       "      <td>23325.167906</td>\n",
       "      <td>POLYGON ((-87.59215 41.81693, -87.59215 41.816...</td>\n",
       "      <td>1</td>\n",
       "      <td>KENWOOD</td>\n",
       "    </tr>\n",
       "  </tbody>\n",
       "</table>\n",
       "</div>"
      ],
      "text/plain": [
       "   area area_num_1 area_numbe  comarea  comarea_id        community  \\\n",
       "0   0.0         35         35      0.0         0.0          DOUGLAS   \n",
       "1   0.0         36         36      0.0         0.0          OAKLAND   \n",
       "2   0.0         37         37      0.0         0.0      FULLER PARK   \n",
       "3   0.0         38         38      0.0         0.0  GRAND BOULEVARD   \n",
       "4   0.0         39         39      0.0         0.0          KENWOOD   \n",
       "\n",
       "   perimeter    shape_area     shape_len  \\\n",
       "0        0.0  4.600462e+07  31027.054510   \n",
       "1        0.0  1.691396e+07  19565.506153   \n",
       "2        0.0  1.991670e+07  25339.089750   \n",
       "3        0.0  4.849250e+07  28196.837157   \n",
       "4        0.0  2.907174e+07  23325.167906   \n",
       "\n",
       "                                            geometry  \\\n",
       "0  POLYGON ((-87.60914 41.84469, -87.60915 41.844...   \n",
       "1  POLYGON ((-87.59215 41.81693, -87.59231 41.816...   \n",
       "2  POLYGON ((-87.62880 41.80189, -87.62879 41.801...   \n",
       "3  POLYGON ((-87.60671 41.81681, -87.60670 41.816...   \n",
       "4  POLYGON ((-87.59215 41.81693, -87.59215 41.816...   \n",
       "\n",
       "   number_of_grocery_stores        COMMUNITY  \n",
       "0                         2          DOUGLAS  \n",
       "1                         0          OAKLAND  \n",
       "2                         0      FULLER PARK  \n",
       "3                         2  GRAND BOULEVARD  \n",
       "4                         1          KENWOOD  "
      ]
     },
     "execution_count": 14,
     "metadata": {},
     "output_type": "execute_result"
    }
   ],
   "source": [
    "# We can also take a look at the data to confirm it looks correct\n",
    "shape.head()"
   ]
  },
  {
   "cell_type": "markdown",
   "metadata": {},
   "source": []
  },
  {
   "cell_type": "code",
   "execution_count": 1,
   "metadata": {},
   "outputs": [],
   "source": [
    "import healpy as hp\n"
   ]
  },
  {
   "cell_type": "code",
   "execution_count": 14,
   "metadata": {},
   "outputs": [],
   "source": [
    "imap = hp.read_map(\"/Users/mayamallaby-kay/Documents/Documents/Graduate_School/Research/anl/cutout_all_pixels_90_act_cib_map.fits\")"
   ]
  },
  {
   "cell_type": "code",
   "execution_count": 16,
   "metadata": {},
   "outputs": [
    {
     "data": {
      "image/png": "[encoded data removed]",
      "text/plain": [
       "<Figure size 850x540 with 2 Axes>"
      ]
     },
     "metadata": {},
     "output_type": "display_data"
    }
   ],
   "source": [
    "# plot a 5 degree by 5 degree region of the map\n",
    "hp.cartview(imap, coord=['G','C'], lonra=[-25,25], latra=[-25,25], title='90 GHz CIB map', cmap='jet')"
   ]
  },
  {
   "cell_type": "code",
   "execution_count": 12,
   "metadata": {},
   "outputs": [
    {
     "data": {
      "text/plain": [
       "(array([   0.,    0.,    0.,    0.,    0., 1000.,    0.,    0.,    0.,\n",
       "           0.]),\n",
       " array([-0.5, -0.4, -0.3, -0.2, -0.1,  0. ,  0.1,  0.2,  0.3,  0.4,  0.5]),\n",
       " <BarContainer object of 10 artists>)"
      ]
     },
     "execution_count": 12,
     "metadata": {},
     "output_type": "execute_result"
    },
    {
     "data": {
      "image/png": "[encoded data removed]",
      "text/plain": [
       "<Figure size 640x480 with 1 Axes>"
      ]
     },
     "metadata": {},
     "output_type": "display_data"
    }
   ],
   "source": [
    "import matplotlib.pyplot as plt\n",
    "\n",
    "plt.hist(imap[:1000])"
   ]
  },
  {
   "cell_type": "code",
   "execution_count": null,
   "metadata": {},
   "outputs": [],
   "source": []
  }
 ],
 "metadata": {
  "kernelspec": {
   "display_name": "py31012",
   "language": "python",
   "name": "py31012"
  },
  "language_info": {
   "codemirror_mode": {
    "name": "ipython",
    "version": 3
   },
   "file_extension": ".py",
   "mimetype": "text/x-python",
   "name": "python",
   "nbconvert_exporter": "python",
   "pygments_lexer": "ipython3",
   "version": "3.10.12"
  }
 },
 "nbformat": 4,
 "nbformat_minor": 2
}
